{
 "cells": [
  {
   "cell_type": "markdown",
   "id": "modular-smoke",
   "metadata": {},
   "source": [
    "20210706：主要将每个格点的npz文件整理成tif"
   ]
  },
  {
   "cell_type": "code",
   "execution_count": 8,
   "id": "undefined-advisory",
   "metadata": {},
   "outputs": [],
   "source": [
    "import os\n",
    "import glob\n",
    "import imageio\n",
    "import logging\n",
    "import shapefile\n",
    "import datetime\n",
    "import numpy as np\n",
    "import pandas as pd\n",
    "import geopandas as gpd\n",
    "import matplotlib as mpl\n",
    "import matplotlib.pyplot as plt\n",
    "\n",
    "from pathlib import Path\n",
    "from numpy import meshgrid\n",
    "from numpy import linspace\n",
    "from matplotlib import gridspec\n",
    "from IPython.display import Image\n",
    "from osgeo import gdal, osr\n",
    "from mpl_toolkits.basemap import Basemap\n",
    "from matplotlib.patches import PathPatch\n",
    "from mpl_toolkits.axes_grid1.inset_locator import mark_inset\n",
    "from mpl_toolkits.axes_grid1.inset_locator import zoomed_inset_axes\n",
    "from matplotlib.colors import ListedColormap, LinearSegmentedColormap\n"
   ]
  },
  {
   "cell_type": "code",
   "execution_count": 3,
   "id": "international-stack",
   "metadata": {},
   "outputs": [],
   "source": [
    "year=2015"
   ]
  },
  {
   "cell_type": "markdown",
   "id": "preceding-infrastructure",
   "metadata": {},
   "source": [
    "## 单点结果示意"
   ]
  },
  {
   "cell_type": "code",
   "execution_count": 4,
   "id": "bored-grave",
   "metadata": {},
   "outputs": [
    {
     "data": {
      "image/png": "[encoded data removed]",
      "text/plain": [
       "<Figure size 360x648 with 3 Axes>"
      ]
     },
     "metadata": {
      "needs_background": "light"
     },
     "output_type": "display_data"
    }
   ],
   "source": [
    "files=glob.glob(\"D:\\hh\\@进行中的工作\\ESSD_Wheat_Multi-vars\\结果\\V2-3/%d/2513_*_V2-3.npz\"%year)\n",
    "file=files[20]\n",
    "re=np.load(file)\n",
    "lai,twso,tagp,dvs,s_doy=re['lai'],re['twso'],re['tagp'],re['dvs'],re['doy']\n",
    "fig, ax = plt.subplots(3,1,figsize=(5,9),sharex=True)\n",
    "ax[0].plot(range(len(lai)),lai)\n",
    "for i in range(len(dvs)):\n",
    "    if abs(dvs[i]-1)<0.01:\n",
    "        ax[0].axvline(x=i,ls=\"--\",c=\"k\")#添加垂直直线\n",
    "ax[1].plot(range(len(twso)),twso)\n",
    "ax[2].plot(range(len(tagp)),tagp)\n",
    "\n",
    "plt.xticks(fontsize=14)\n",
    "\n",
    "ax[0].set_ylabel('LAI ('+'$ \\mathrm{m}^{2}$'+'$\\cdot$'+'$\\mathrm{m}^{-2}$'+')',fontsize=14)\n",
    "ax[1].set_ylabel('TWSO ('+'$ \\mathrm{kg}$'+'$\\cdot$'+'$ \\mathrm{ha}^{-1}$'+')',fontsize=14)\n",
    "ax[2].set_ylabel('TAGP ('+'$ \\mathrm{kg}$'+'$\\cdot$'+'$ \\mathrm{ha}^{-1}$'+')',fontsize=14)\n",
    "ax[0].set_ylim(0,8)\n",
    "\n",
    "ax[1].set_ylim(-300,np.nanmax(twso)*1.05)\n",
    "ax[2].set_ylim(-300,np.nanmax(tagp)*1.05)\n",
    "fig.autofmt_xdate()# 日期的排列根据图像的大小自适应\n",
    "# fig.savefig('D:/a进行中工作/ESSD_AGB_2021_不备份/png/单点动态/%03d.jpg'%(d),dpi=80,bbox_inches='tight')\n"
   ]
  },
  {
   "cell_type": "markdown",
   "id": "metallic-cable",
   "metadata": {},
   "source": [
    "此处引发的一个问题就是由于修改了开始生成籽粒产量的起始DVS，会导致开花和LAI峰值不吻合"
   ]
  },
  {
   "cell_type": "code",
   "execution_count": 23,
   "id": "altered-orlando",
   "metadata": {},
   "outputs": [
    {
     "data": {
      "text/plain": [
       "291"
      ]
     },
     "execution_count": 23,
     "metadata": {},
     "output_type": "execute_result"
    }
   ],
   "source": [
    "s_doy+0"
   ]
  },
  {
   "cell_type": "markdown",
   "id": "documented-richardson",
   "metadata": {},
   "source": [
    "## 变量整理为单个表格\n",
    "需要整理的变量：逐日LAI、TWSO、TAGP，最大LAI，TWSO，TAGP\n",
    "\n",
    "时间：前一年10月初-当年6月底(简化为doy-90☞doy180)"
   ]
  },
  {
   "cell_type": "code",
   "execution_count": 25,
   "id": "formal-edwards",
   "metadata": {},
   "outputs": [],
   "source": [
    "days=datetime.date(year-1,12,31).timetuple().tm_yday#前一年天数\n",
    "dir_=Path('D:\\hh\\@进行中的工作\\ESSD_Wheat_Multi-vars\\结果\\V2-3\\数据整理/%d'%year)\n",
    "dir_.mkdir(parents=True, exist_ok=True)\n",
    "\n",
    "CreatVar=locals()\n",
    "for doy in np.arange(-90,181,1):\n",
    "    if doy==0:\n",
    "        continue\n",
    "    CreatVar['lst_%d'%doy]=[]\n",
    "lst_max=[]\n",
    "files=glob.glob(\"D:\\hh\\@进行中的工作\\ESSD_Wheat_Multi-vars\\结果\\V2-3/%d/*_*_V2-3.npz\"%year)\n",
    "ii=0\n",
    "for file in files:\n",
    "    ii+=1\n",
    "    if ii%10000==0:\n",
    "        print('%d/%d'%(i,len(files)))\n",
    "    re=np.load(file)\n",
    "    lai,twso,tagp,dvs,s_doy=re['lai'],re['twso'],re['tagp'],re['dvs'],re['doy']\n",
    "    lai_max,twso_max,tagp_max=np.nanmax(lai),np.nanmax(twso),np.nanmax(tagp)\n",
    "    for i in range(len(dvs)):\n",
    "        if abs(dvs[i]-1)<0.01:\n",
    "            flw=s_doy+i-days\n",
    "        mat=0\n",
    "        if abs(dvs[i]-2)<0.01:\n",
    "            mat=s_doy+i-days\n",
    "    if mat==0:\n",
    "        mat=s_doy+i-days\n",
    "          \n",
    "    try:\n",
    "        x,y=list(map(int,file.split('/')[-1].split('_')[:2]))\n",
    "    except:\n",
    "        x,y=list(map(int,file.split('\\\\')[-1].split('_')[:2]))\n",
    "        \n",
    "    lst_max.append([x,y,lai_max,twso_max,tagp_max,s_doy,flw,mat])\n",
    "    \n",
    "    doys0=[s_doy-days-1+d for d in range(len(lai))]\n",
    "    doys=[]\n",
    "    for d in doys0:\n",
    "        if d<0:\n",
    "            doys.append(d)\n",
    "        else:\n",
    "            doys.append(d+1)\n",
    "    n=0\n",
    "    for doy in doys:\n",
    "        if doy<-90 or doy>180:\n",
    "            continue\n",
    "        v1,v2,v3=lai[n],twso[n],tagp[n]\n",
    "        v1=v1 if v1==v1 else 0\n",
    "        v2=v2 if v2==v2 else 0\n",
    "        v3=v3 if v3==v3 else 0\n",
    "        v1,v2,v3=round(v1*100)/100.,round(v2),round(v3)\n",
    "        CreatVar['lst_%d'%doy].append([x,y,v1,v2,v3])\n",
    "        n+=1\n",
    "df_max=pd.DataFrame(columns=['x','y','LAI','TWSO','TAGP','EM',\"FLW\",\"MAT\"],data=lst_max)\n",
    "df_max.to_csv(dir_/'data_max_and_DVS.csv',index=False)\n",
    "for doy in np.arange(-90,181,1):\n",
    "    if doy==0:\n",
    "        continue\n",
    "    CreatVar['df_%d'%doy]=pd.DataFrame(columns=['x','y','LAI','TWSO','TAGP'],data=CreatVar['lst_%d'%doy])\n",
    "    CreatVar['df_%d'%doy].to_csv(dir_/('data_%d.csv'%doy),index=False)\n",
    "    \n",
    "    "
   ]
  },
  {
   "cell_type": "markdown",
   "id": "neutral-shopper",
   "metadata": {},
   "source": [
    "## 变量整理并行版  \n",
    "     没写完？？实际在李老师服务器上单线程运行"
   ]
  },
  {
   "cell_type": "code",
   "execution_count": 28,
   "id": "atlantic-functionality",
   "metadata": {},
   "outputs": [],
   "source": [
    "# %%writefile data_procrssing.py\n",
    "\n",
    "import glob\n",
    "import numpy as np\n",
    "import pandas as pd\n",
    "\n",
    "CreatVar=locals()\n",
    "\n",
    "def sayHi(file):\n",
    "    re=np.load(file)\n",
    "    lai,twso,tagp,dvs,s_doy=re['lai'],re['twso'],re['tagp'],re['dvs'],re['doy']*1\n",
    "    lai_max,twso_max,tagp_max=np.nanmax(lai),np.nanmax(twso),np.nanmax(tagp)\n",
    "    for i in range(len(dvs)):\n",
    "        if abs(dvs[i]-1)<0.01:\n",
    "            flw=s_doy+i-days\n",
    "        mat=0\n",
    "        if abs(dvs[i]-2)<0.01:\n",
    "            mat=s_doy+i-days\n",
    "    if mat==0:\n",
    "        mat=s_doy+i-days\n",
    "          \n",
    "    try:\n",
    "        x,y=list(map(int,file.split('/')[-1].split('_')[:2]))\n",
    "    except:\n",
    "        x,y=list(map(int,file.split('\\\\')[-1].split('_')[:2]))\n",
    "        \n",
    "    lst_max_and_dvs=[x,y,lai_max,twso_max,tagp_max,s_doy,flw,mat]\n",
    "    \n",
    "    doys0=[s_doy-days-1+d for d in range(len(lai))]\n",
    "    doys=[]\n",
    "    for d in doys0:\n",
    "        if d<0:\n",
    "            doys.append(d)\n",
    "        else:\n",
    "            doys.append(d+1)\n",
    "    n=0\n",
    "    lst_data=[]\n",
    "    for doy in doys:\n",
    "        if doy<-90 or doy>180:\n",
    "            continue\n",
    "        v1,v2,v3=lai[n],twso[n],tagp[n]\n",
    "        v1=v1 if v1==v1 else 0\n",
    "        v2=v2 if v2==v2 else 0\n",
    "        v3=v3 if v3==v3 else 0\n",
    "        v1,v2,v3=round(v1*100)/100.,round(v2),round(v3)\n",
    "        lst_data.append([x,y,v1,v2,v3])\n",
    "        n+=1    \n",
    "    return [doys,lst_data,lst_max_and_dvs]\n",
    "\n",
    "def mycallback(x):\n",
    "    # print(x)\n",
    "    try:\n",
    "        csv_write.writerow(x)\n",
    "    except:\n",
    "        pass\n",
    "\n",
    "\n",
    "\n",
    "year=2008\n",
    "files=glob.glob(\"D:\\hh\\@进行中的工作\\ESSD_Wheat_Multi-vars\\结果\\V2-3/%d/*_*_V2-3.npz\"%year)\n",
    "# sayHi(files[0])"
   ]
  },
  {
   "cell_type": "markdown",
   "id": "gorgeous-circuit",
   "metadata": {},
   "source": [
    "## 批量生成tif"
   ]
  },
  {
   "cell_type": "code",
   "execution_count": null,
   "id": "theoretical-mountain",
   "metadata": {},
   "outputs": [],
   "source": []
  },
  {
   "cell_type": "code",
   "execution_count": null,
   "id": "preliminary-opinion",
   "metadata": {},
   "outputs": [
    {
     "name": "stdout",
     "output_type": "stream",
     "text": [
      "LAI\n"
     ]
    },
    {
     "data": {
      "image/png": "[encoded data removed]",
      "text/plain": [
       "<Figure size 432x288 with 1 Axes>"
      ]
     },
     "metadata": {
      "needs_background": "light"
     },
     "output_type": "display_data"
    },
    {
     "name": "stdout",
     "output_type": "stream",
     "text": [
      "TWSO\n"
     ]
    },
    {
     "data": {
      "image/png": "[encoded data removed]",
      "text/plain": [
       "<Figure size 432x288 with 1 Axes>"
      ]
     },
     "metadata": {
      "needs_background": "light"
     },
     "output_type": "display_data"
    },
    {
     "name": "stdout",
     "output_type": "stream",
     "text": [
      "TAGP\n"
     ]
    },
    {
     "data": {
      "image/png": "[encoded data removed]",
      "text/plain": [
       "<Figure size 432x288 with 1 Axes>"
      ]
     },
     "metadata": {
      "needs_background": "light"
     },
     "output_type": "display_data"
    },
    {
     "name": "stdout",
     "output_type": "stream",
     "text": [
      "EM\n"
     ]
    },
    {
     "data": {
      "image/png": "[encoded data removed]",
      "text/plain": [
       "<Figure size 432x288 with 1 Axes>"
      ]
     },
     "metadata": {
      "needs_background": "light"
     },
     "output_type": "display_data"
    },
    {
     "name": "stdout",
     "output_type": "stream",
     "text": [
      "FLW\n"
     ]
    },
    {
     "data": {
      "image/png": "[encoded data removed]",
      "text/plain": [
       "<Figure size 432x288 with 1 Axes>"
      ]
     },
     "metadata": {
      "needs_background": "light"
     },
     "output_type": "display_data"
    },
    {
     "name": "stdout",
     "output_type": "stream",
     "text": [
      "MAT\n"
     ]
    },
    {
     "data": {
      "image/png": "[encoded data removed]",
      "text/plain": [
       "<Figure size 432x288 with 1 Axes>"
      ]
     },
     "metadata": {
      "needs_background": "light"
     },
     "output_type": "display_data"
    },
    {
     "name": "stdout",
     "output_type": "stream",
     "text": [
      "LAI_2008\n",
      "..............................................................................................................................................................................................................................................................................TWSO_2008\n",
      "..............................................................................................................................................................................................................................................................................TAGP_2008\n",
      "..................................................................................................................."
     ]
    }
   ],
   "source": [
    "ds=gdal.Open('D:/hh/@进行中的工作/ESSD_Wheat_Multi-vars/MOD_LAI_2000-2015/BNU_LAI/masked_tif/BNU_MODIS_LAI_%d.tif'%year)\n",
    "gt=ds.GetGeoTransform() #分辨率严格为0.01°\n",
    "rows=ds.RasterYSize\n",
    "cols=ds.RasterXSize\n",
    "\n",
    "Path('D:/hh/@进行中的工作/ESSD_Wheat_Multi-vars/结果/V2-3/tif/%d'%year).mkdir(parents=True, exist_ok=True)\n",
    "\n",
    "#MAX LAI， TWSO， TAGP and DVS\n",
    "for item in ['LAI','TWSO','TAGP','EM',\"FLW\",\"MAT\"]:\n",
    "    image = np.zeros((cols, rows), int)\n",
    "    print('%s'%item)\n",
    "    if item in ['LAI','TWSO','TAGP']:\n",
    "        file='D:/hh/@进行中的工作/ESSD_Wheat_Multi-vars/结果/V2-3/tif/%d/%s_%d_max.tif'%(year,item,year)\n",
    "    else:\n",
    "        file='D:/hh/@进行中的工作/ESSD_Wheat_Multi-vars/结果/V2-3/tif/%d/%s_%d_DOY.tif'%(year,item,year)\n",
    "    for line in df_max[['x','y',item]].iloc:\n",
    "        row = int(line['y'])\n",
    "        col = int(line['x'])\n",
    "        try:\n",
    "            image[col, row] = line[item]*100 if item=='LAI' else line[item]\n",
    "        except:# Nan 值\n",
    "            image[col, row] = 0\n",
    "\n",
    "    driver = gdal.GetDriverByName ( \"GTiff\" ) # Get a handler to a driver\n",
    "    dataset_y = driver.Create ( file,cols, rows,1, gdal.GDT_Int16, options=['COMPRESS=LZW'] )\n",
    "    dataset_y.SetGeoTransform ( gt)\n",
    "    dataset_y.SetProjection ( ds.GetProjectionRef() )\n",
    "    dataset_y.GetRasterBand(1).SetNoDataValue(0)\n",
    "    dataset_y.GetRasterBand(1).WriteArray(image.transpose())\n",
    "    dataset_y.FlushCache()\n",
    "    del dataset_y\n",
    "    if item=='LAI':\n",
    "        vmin,vmax=0,800\n",
    "    elif item=='TWSO':\n",
    "        vmin,vmax=1000,7000\n",
    "    elif item=='TAGP':\n",
    "        vmin,vmax=2000,15000\n",
    "    else:\n",
    "        vmin,vmax=0,330\n",
    "    plt.imshow(image.transpose(), interpolation='nearest', vmin=vmin, vmax=vmax, cmap=plt.cm.jet)\n",
    "    plt.show()\n",
    "\n",
    "# Daily LAI, TWSO, TAGP\n",
    "for item in ['LAI','TWSO','TAGP']:\n",
    "    print('%s_%d'%(item,year))\n",
    "    for doy in np.arange(-90,181,1):\n",
    "        if doy==0:\n",
    "            continue\n",
    "        print('.',end='')\n",
    "        image = np.zeros((cols, rows), int)\n",
    "        file='D:/hh/@进行中的工作/ESSD_Wheat_Multi-vars/结果/V2-3/tif/%d/%s_Daily_%d%03d.tif'%(year,item,year,doy)    \n",
    "        for line in CreatVar['df_%d'%doy][['x','y',item]].iloc:\n",
    "            row = int(line['y'])\n",
    "            col = int(line['x'])\n",
    "            try:\n",
    "                image[col, row] = line[item]*100 if item=='LAI' else line[item]\n",
    "            except:# Nan 值\n",
    "                image[col, row] = 0\n",
    "\n",
    "        driver = gdal.GetDriverByName ( \"GTiff\" ) # Get a handler to a driver\n",
    "        dataset_y = driver.Create ( file,cols, rows,1, gdal.GDT_Int16, options=['COMPRESS=LZW'] )\n",
    "        dataset_y.SetGeoTransform ( gt)\n",
    "        dataset_y.SetProjection ( ds.GetProjectionRef() )\n",
    "        dataset_y.GetRasterBand(1).SetNoDataValue(0)\n",
    "        dataset_y.GetRasterBand(1).WriteArray(image.transpose())\n",
    "        dataset_y.FlushCache()\n",
    "        del dataset_y"
   ]
  },
  {
   "cell_type": "code",
   "execution_count": null,
   "id": "utility-allergy",
   "metadata": {},
   "outputs": [],
   "source": [
    "ff"
   ]
  },
  {
   "cell_type": "markdown",
   "id": "elementary-movement",
   "metadata": {},
   "source": [
    "## 横版colorbar(暂时未使用)"
   ]
  },
  {
   "cell_type": "code",
   "execution_count": 3,
   "id": "municipal-poker",
   "metadata": {},
   "outputs": [],
   "source": [
    "logging.getLogger().setLevel(logging.INFO)\n",
    "plt.rcParams['font.sans-serif'] = 'Times New Roman' # or 'SimHei'\n",
    "class DAPlot:\n",
    "  def __init__(self, raster_files, output_path, title, figName, bar_label, scale=1,min=None, max=None,n_color=None,imshow=True):\n",
    "    self.raster_files = raster_files\n",
    "    self.output_path =output_path\n",
    "    self.title =title\n",
    "    self.figName = figName\n",
    "    self.bar_label = bar_label\n",
    "    self.Pro_shp = 'D:/hh/市界-县界/省级行政区划'\n",
    "    self.Nine_shp = 'D:/hh/市界-县界/中国行政区_包含南海九段线'\n",
    "    self.scale = scale\n",
    "    self.min = min\n",
    "    self.max = max \n",
    "    self.n_color=n_color#必要时自己给定，保持刻度条整数\n",
    "    self.imshow=imshow\n",
    "\n",
    "  def plot(self):     \n",
    "    shpfile = self.Pro_shp\n",
    "    ds = gdal.Open(self.raster_files)\n",
    "    data = ds.ReadAsArray()*self.scale\n",
    "    gt = ds.GetGeoTransform()\n",
    "\n",
    "    nx = data.shape[1]\n",
    "    ny = data.shape[0]\n",
    "    lons, lone = gt[0],gt[0]+gt[1]*nx \n",
    "    lats, late = gt[3],gt[3]+gt[5]*ny\n",
    "\n",
    "    fig= plt.figure(figsize=(6.9,5))#6.9 inch 差不多是两栏，字体大小在此基础上6-12号\n",
    "    ax= fig.add_subplot(111)\n",
    "\n",
    "    map = Basemap(rsphere=(6378137.00,6356752.31414),llcrnrlon=81, llcrnrlat=15, \\\n",
    "        urcrnrlon=138, urcrnrlat=51.5, projection='aea',  resolution=None, \\\n",
    "        lat_1=25, lat_2=47, lon_0=105, ax = ax)\n",
    "    m=map\n",
    "    \n",
    "    \n",
    "    #绘制栅格 √    \n",
    "    if (self.min is None) and (self.max is None):\n",
    "      temp=[a for a in data.flatten() if a]\n",
    "      q1,q2=int(np.percentile(temp,5)),int(np.percentile(temp,95))#自行修改分位数比例\n",
    "    else:\n",
    "      q1,q2=self.min,self.max\n",
    "    colors = ['red','orangered',\"darkorange\", \"gold\", \"#72de40\", \"#42971a\",'#27590f']\n",
    "    nodes = [0.0, 0.15, 0.3, 0.45, 0.6, 0.8, 1.0]\n",
    "    cm = LinearSegmentedColormap.from_list(\"mycmap\", list(zip(nodes, colors)))\n",
    "\n",
    "    new_data = np.ma.masked_where(data==0, data)\n",
    "    extent = (gt[0], gt[0] + ds.RasterXSize * gt[1],\n",
    "              gt[3] + ds.RasterYSize * gt[5], gt[3])\n",
    "    x = linspace(gt[0], gt[0] + ds.RasterXSize * gt[1], ds.RasterXSize)\n",
    "    y = linspace(gt[3], gt[3] + ds.RasterYSize * gt[5], ds.RasterYSize)\n",
    "    xx, yy = meshgrid(x, y)\n",
    "    if self.n_color is None:\n",
    "        n_color=int((q2-q1)*2)+1\n",
    "        if q2-q1>1000:\n",
    "            n_color=int((q2-q1)/1000)+1\n",
    "    else:\n",
    "        n_color=self.n_color\n",
    "    if (self.min is None) and (self.max is None) and (self.n_color is None):\n",
    "        cs=m.contourf(xx, yy,new_data,cmap=cm,latlon=True,extend='both')\n",
    "    else:\n",
    "        cs=m.contourf(xx, yy,new_data,cmap=cm,levels=np.linspace(q1,q2,n_color),latlon=True,extend='both')\n",
    "#     cs = map.pcolormesh(xx, yy, new_data, cmap=cm, latlon=True, shading='auto',vmin=q1,vmax=q2)#  'flat', 'nearest', 'gouraud', 'auto' \n",
    "\n",
    "    #绘制colorbar\n",
    "    bar=plt.colorbar(cs,orientation='horizontal',fraction=0.048, pad=0.07)#fraction调整colorbar大小，pad间距\n",
    "    # bar.ax.tick_params(size=0,labelsize=1,labelcolor='white')#不显示ticks和labels\n",
    "    bar.ax.tick_params(size=2,labelsize=8,labelcolor='black')\n",
    "    bar.ax.set_title(self.bar_label, loc='center', fontsize=8)  \n",
    "    \n",
    "    #标题\n",
    "    plt.title(self.title, fontsize=9, y=0.88)\n",
    "    # plt.title(self.title)\n",
    "    \n",
    "    # 比例尺 \n",
    "    map.drawmapscale(89, 21, 117.5, 36, 1500, units='km',barstyle='fancy',format='%d',fontsize=8,zorder=3)\n",
    "\n",
    "    #指北针\n",
    "    offset = 0.01*(m.ymax-m.ymin)+0.01*(m.xmax-m.xmin)\n",
    "    x,y=map(72,49)\n",
    "    x=x+2*offset\n",
    "    y=y-offset\n",
    "    ax.fill([x,x+offset,x,x-offset,x],[y,y-3.5*offset,y-2.25*offset,y-3.5*offset,y],ec='k',fc='None',zorder=3)\n",
    "    ax.fill([x,x+offset,x,x],[y,y-3.5*offset,y-2.25*offset,y],ec='None',fc='w',zorder=3)\n",
    "    ax.fill([x,x,x-offset,x],[y,y-2.25*offset,y-3.5*offset,y],ec='None',fc='k',zorder=3)\n",
    "    ax.text(x,y+0.5*offset,'N',horizontalalignment='center',fontsize=10,zorder=3)\n",
    "\n",
    "    #绘制经纬线\n",
    "    parallels = np.arange(10.,90,5.) \n",
    "    map.drawparallels(parallels,labels=[1,0,0,0],fontsize=8, zorder=1, linewidth=0.2) # 绘制纬线\n",
    "    meridians = np.arange(70.,180.,10.)\n",
    "    map.drawmeridians(meridians,labels=[0,0,1,0],fontsize=8, zorder=1, linewidth=0.2) # 绘制经线              \n",
    "    map.readshapefile(shpfile, 'China')\n",
    "\n",
    "    #局部小地图：九段线区域\n",
    "    axins = zoomed_inset_axes(ax, 0.38, loc = 4, borderpad=0)\n",
    "    axins.set_xlim(108, 122.5)\n",
    "    axins.set_ylim(3, 25)\n",
    "\n",
    "    map2 = Basemap(rsphere=(6378137.00,6356752.31414),llcrnrlon = 108, llcrnrlat = 3, urcrnrlon = 122.5, \\\n",
    "               urcrnrlat = 25,projection='aea',  resolution=None, lat_1=25, lat_2=47, lon_0=105, ax = axins)                       \n",
    "    shpfile = self.Nine_shp              \n",
    "    map2.readshapefile(shpfile, 'China')              \n",
    "    mark_inset(ax, axins, loc1=2, loc2=4, fc = \"none\", ec = \"none\")\n",
    "\n",
    "#     plt.show()\n",
    "    fig.savefig(self.output_path+'/'+self.figName,dpi=600,bbox_inches='tight')\n",
    "    if not self.imshow:\n",
    "        plt.clf()\n",
    "        plt.close()\n",
    "#     logging.info('Saving figure: %s'%self.figName)\n",
    "    return self.output_path+'/'+self.figName"
   ]
  },
  {
   "cell_type": "markdown",
   "id": "aggregate-cotton",
   "metadata": {},
   "source": [
    "## 纵版colorbar"
   ]
  },
  {
   "cell_type": "code",
   "execution_count": 3,
   "id": "sticky-chicken",
   "metadata": {},
   "outputs": [],
   "source": [
    "logging.getLogger().setLevel(logging.INFO)\n",
    "plt.rcParams['font.sans-serif'] = 'Times New Roman' # or 'SimHei'\n",
    "class DAPlot:\n",
    "  def __init__(self, raster_files, output_path, title, figName, bar_label, scale=1,min=None, max=None,n_color=None,imshow=True):\n",
    "    self.raster_files = raster_files\n",
    "    self.output_path =output_path\n",
    "    self.title =title\n",
    "    self.figName = figName\n",
    "    self.bar_label = bar_label\n",
    "    self.Pro_shp = 'D:/hh/市界-县界/省级行政区划'\n",
    "    self.Nine_shp = 'D:/hh/市界-县界/中国行政区_包含南海九段线'\n",
    "    self.scale = scale\n",
    "    self.min = min\n",
    "    self.max = max \n",
    "    self.n_color=n_color#必要时自己给定，保持刻度条整数\n",
    "    self.imshow=imshow\n",
    "\n",
    "  def plot(self):     \n",
    "    shpfile = self.Pro_shp\n",
    "    ds = gdal.Open(self.raster_files)\n",
    "    data = ds.ReadAsArray()*self.scale\n",
    "    gt = ds.GetGeoTransform()\n",
    "\n",
    "    nx = data.shape[1]\n",
    "    ny = data.shape[0]\n",
    "    lons, lone = gt[0],gt[0]+gt[1]*nx \n",
    "    lats, late = gt[3],gt[3]+gt[5]*ny\n",
    "\n",
    "    fig= plt.figure(figsize=(6.9,5))#6.9 inch 差不多是两栏，字体大小在此基础上6-12号\n",
    "    ax= fig.add_subplot(111)\n",
    "\n",
    "    map = Basemap(rsphere=(6378137.00,6356752.31414),llcrnrlon=81, llcrnrlat=15, \\\n",
    "        urcrnrlon=138, urcrnrlat=51.5, projection='aea', \\\n",
    "        lat_1=25, lat_2=47, lon_0=105, ax = ax)\n",
    "    m=map\n",
    "    \n",
    "    \n",
    "    #绘制栅格 √    \n",
    "    if (self.min is None) and (self.max is None):\n",
    "      temp=[a for a in data.flatten() if a]\n",
    "      q1,q2=int(np.percentile(temp,5)),int(np.percentile(temp,95))#自行修改分位数比例\n",
    "    else:\n",
    "      q1,q2=self.min,self.max\n",
    "    colors = ['red','orangered',\"darkorange\", \"gold\", \"#72de40\", \"#42971a\",'#27590f'][::-1]\n",
    "    nodes = [0.0, 0.15, 0.3, 0.45, 0.6, 0.8, 1.0]\n",
    "    cm = LinearSegmentedColormap.from_list(\"mycmap\", list(zip(nodes, colors)))\n",
    "\n",
    "    new_data = np.ma.masked_where(data==0, data)\n",
    "    extent = (gt[0], gt[0] + ds.RasterXSize * gt[1],\n",
    "              gt[3] + ds.RasterYSize * gt[5], gt[3])\n",
    "    x = linspace(gt[0], gt[0] + ds.RasterXSize * gt[1], ds.RasterXSize)\n",
    "    y = linspace(gt[3], gt[3] + ds.RasterYSize * gt[5], ds.RasterYSize)\n",
    "    xx, yy = meshgrid(x, y)\n",
    "    if self.n_color is None:\n",
    "        n_color=int((q2-q1)*2)+1\n",
    "        if q2-q1>1000:\n",
    "            n_color=int((q2-q1)/1000)+1\n",
    "    else:\n",
    "        n_color=self.n_color\n",
    "    if (self.min is None) and (self.max is None) and (self.n_color is None):\n",
    "        cs=m.contourf(xx, yy,new_data,cmap=cm,latlon=True,extend='both')\n",
    "    else:\n",
    "        cs=m.contourf(xx, yy,new_data,cmap=cm,levels=np.linspace(q1,q2,n_color),latlon=True,extend='both')\n",
    "#     cs = map.pcolormesh(xx, yy, new_data, cmap=cm, latlon=True, shading='auto',vmin=q1,vmax=q2)#  'flat', 'nearest', 'gouraud', 'auto' \n",
    "\n",
    "    #绘制colorbar\n",
    "    bar=plt.colorbar(cs,orientation='vertical',fraction=0.048, pad=0.01)#fraction调整colorbar大小，pad间距\n",
    "    # bar.ax.tick_params(size=0,labelsize=1,labelcolor='white')#不显示ticks和labels\n",
    "    bar.ax.tick_params(size=2,labelsize=8,labelcolor='black')\n",
    "    bar.set_label(self.bar_label, fontsize=8)  #注意.set_label和.ax.set_title区别\n",
    "    \n",
    "    #标题\n",
    "    plt.title(self.title, fontsize=9, y=0.88)\n",
    "    # plt.title(self.title)\n",
    "    \n",
    "    # 比例尺 \n",
    "    map.drawmapscale(89, 21, 117.5, 36, 1500, units='km',barstyle='fancy',format='%d',fontsize=8,zorder=3)\n",
    "\n",
    "    #指北针\n",
    "    offset = 0.01*(m.ymax-m.ymin)+0.01*(m.xmax-m.xmin)\n",
    "    x,y=map(72,49)\n",
    "    x=x+2*offset\n",
    "    y=y-offset\n",
    "    ax.fill([x,x+offset,x,x-offset,x],[y,y-3.5*offset,y-2.25*offset,y-3.5*offset,y],ec='k',fc='None',zorder=3)\n",
    "    ax.fill([x,x+offset,x,x],[y,y-3.5*offset,y-2.25*offset,y],ec='None',fc='w',zorder=3)\n",
    "    ax.fill([x,x,x-offset,x],[y,y-2.25*offset,y-3.5*offset,y],ec='None',fc='k',zorder=3)\n",
    "    ax.text(x,y+0.5*offset,'N',horizontalalignment='center',fontsize=10,zorder=3)\n",
    "\n",
    "    #绘制经纬线\n",
    "    parallels = np.arange(10.,90,5.) \n",
    "    map.drawparallels(parallels,labels=[1,0,0,0],fontsize=8, zorder=1, linewidth=0.2) # 绘制纬线\n",
    "    meridians = np.arange(70.,180.,5.)\n",
    "    map.drawmeridians(meridians,labels=[0,0,0,1],fontsize=8, zorder=1, linewidth=0.2) # 绘制经线              \n",
    "    map.readshapefile(shpfile, 'China')\n",
    "\n",
    "    #局部小地图：九段线区域\n",
    "    axins = zoomed_inset_axes(ax, 0.38, loc = 4, borderpad=0)\n",
    "    axins.set_xlim(108, 122.5)\n",
    "    axins.set_ylim(3, 25)\n",
    "\n",
    "    map2 = Basemap(rsphere=(6378137.00,6356752.31414),llcrnrlon = 108, llcrnrlat = 3, urcrnrlon = 122.5, \\\n",
    "               urcrnrlat = 25,projection='aea', lat_1=25, lat_2=47, lon_0=105, ax = axins)                       \n",
    "    shpfile = self.Nine_shp              \n",
    "    map2.readshapefile(shpfile, 'China')              \n",
    "    mark_inset(ax, axins, loc1=2, loc2=4, fc = \"none\", ec = \"none\")\n",
    "\n",
    "#     plt.show()\n",
    "    fig.savefig(self.output_path+'/'+self.figName,dpi=150,bbox_inches='tight')\n",
    "    if not self.imshow:\n",
    "        plt.clf()\n",
    "        plt.close()\n",
    "#     logging.info('Saving figure: %s'%self.figName)\n",
    "    return self.output_path+'/'+self.figName"
   ]
  },
  {
   "cell_type": "markdown",
   "id": "reserved-turkey",
   "metadata": {},
   "source": [
    "## Max_value and DVS"
   ]
  },
  {
   "cell_type": "code",
   "execution_count": 14,
   "id": "wooden-minister",
   "metadata": {},
   "outputs": [
    {
     "name": "stdout",
     "output_type": "stream",
     "text": [
      "\n",
      " 2007\n",
      "LAI TWSO TAGP EM FLW MAT \n",
      " 2008\n",
      "LAI TWSO TAGP EM FLW MAT \n",
      " 2009\n",
      "LAI TWSO TAGP EM FLW MAT \n",
      " 2010\n",
      "LAI TWSO TAGP EM FLW MAT \n",
      " 2011\n",
      "LAI TWSO TAGP EM FLW MAT \n",
      " 2012\n",
      "LAI TWSO TAGP EM FLW MAT \n",
      " 2013\n",
      "LAI TWSO TAGP EM FLW MAT \n",
      " 2014\n",
      "LAI TWSO TAGP EM FLW MAT \n",
      " 2015\n",
      "LAI TWSO TAGP EM FLW MAT "
     ]
    }
   ],
   "source": [
    "#MAX LAI， TWSO， TAGP and DVS\n",
    "dct={'EM':'Emergence',\"FLW\":'Anthesis',\"MAT\":'Maturity'}\n",
    "labels={'LAI':'$ \\mathrm{m}^{2}$'+'$\\cdot$'+'$ \\mathrm{m}^{-2}$',\n",
    "        'TWSO':'$ \\mathrm{kg}$'+'$\\cdot$'+'$ \\mathrm{ha}^{-1}$',\n",
    "        'TAGP':'$ \\mathrm{kg}$'+'$\\cdot$'+'$ \\mathrm{ha}^{-1}$'}\n",
    "mins={'LAI':1,'TWSO':1000,'TAGP':2000,'EM':265,\"FLW\":55,\"MAT\":110}\n",
    "maxs={'LAI':8,'TWSO':10000,'TAGP':20000,'EM':335,\"FLW\":150,\"MAT\":200}\n",
    "ncs={'EM':15,\"FLW\":20,\"MAT\":19}\n",
    "for year in range(2007,2016): \n",
    "    print('\\n',year)\n",
    "    output_path = 'D:/hh/@进行中的工作/ESSD_Wheat_Multi-vars/结果/V2-3/png/%d'%year    \n",
    "    for item in ['LAI','TWSO','TAGP','EM',\"FLW\",\"MAT\"][:]:\n",
    "        print(item,end=' ')\n",
    "        if item in ['LAI','TWSO','TAGP']:\n",
    "            file='D:/hh/@进行中的工作/ESSD_Wheat_Multi-vars/结果/V2-3/tif/%d/%s_%d_max.tif'%(year,item,year)\n",
    "            title = 'Winter Wheat Maximal %s of China\\n(%d)'%(item,year)\n",
    "            figName = 'Winter_Wheat_maximal_%s-%d'%(item,year)\n",
    "            bar_label = labels[item]\n",
    "            ns=None\n",
    "        else:\n",
    "            file='D:/hh/@进行中的工作/ESSD_Wheat_Multi-vars/结果/V2-3/tif/%d/%s_%d_DOY.tif'%(year,item,year)\n",
    "            tyear=year-1 if item=='EM' else year\n",
    "            title = 'Winter Wheat %s day\\n(%d)'%(dct[item],tyear)\n",
    "            figName = 'Winter_Wheat_%s-%d'%(dct[item],year)\n",
    "            bar_label = 'd'\n",
    "            ns=ncs[item]\n",
    "        if item=='LAI':\n",
    "            s=0.01\n",
    "        else:\n",
    "            s=1\n",
    "        minv,maxv=mins[item],maxs[item]\n",
    "        DP=DAPlot(file, output_path, title, figName, bar_label,scale=s,min=minv,max=maxv,imshow=False,n_color=ns)\n",
    "        DP.plot()            "
   ]
  },
  {
   "cell_type": "markdown",
   "id": "complex-horror",
   "metadata": {},
   "source": [
    "### LAI"
   ]
  },
  {
   "cell_type": "code",
   "execution_count": 52,
   "id": "unavailable-syntax",
   "metadata": {},
   "outputs": [
    {
     "name": "stdout",
     "output_type": "stream",
     "text": [
      "2007\n",
      ".............................................................................................................................................................................................................................................................................2008\n",
      ".............................................................................................................................................................................................................................................................................2009\n",
      ".............................................................................................................................................................................................................................................................................2010\n",
      ".............................................................................................................................................................................................................................................................................2011\n",
      ".............................................................................................................................................................................................................................................................................2012\n",
      ".............................................................................................................................................................................................................................................................................2013\n",
      ".............................................................................................................................................................................................................................................................................2014\n",
      "............................................................................................................................................................................................................................................................................."
     ]
    }
   ],
   "source": [
    "for year in range(2007,2016):  \n",
    "  print(year)\n",
    "  output_path = 'D:/hh/@进行中的工作/ESSD_Wheat_Multi-vars/结果/V2-3/png/%d'%year\n",
    "  Path(output_path).mkdir(parents=True, exist_ok=True)\n",
    "  #AGB&Yield\n",
    "  bar_label = '$ \\mathrm{m}^{-2}$'+'$\\cdot$'+'$ \\mathrm{m}^{-2}$'\n",
    "#   bar_label = '$ \\mathrm{kg}$'+'$\\cdot$'+'$ \\mathrm{ha}^{-1}$'  \n",
    "  for doy in range(-90,180,1):\n",
    "    if doy==0:\n",
    "        continue\n",
    "    raster_files = 'D:/hh/@进行中的工作/ESSD_Wheat_Multi-vars/结果/V2-3/tif/%d/LAI_Daily_%d%03d.tif'%(year,year,doy)\n",
    "#     raster_files = 'D:\\a进行中工作\\ESSD_AGB_2021\\结果\\%d\\tif/TAGP_%d.tif'%(year,doy)\n",
    "    tdoy=doy\n",
    "    tyear=year\n",
    "    if doy<0:\n",
    "        tyear=year-1\n",
    "        tdoy=(datetime.date(year,1,1)-datetime.date(year-1,1,1)).days+doy+1\n",
    "#     print(tyear,'-',tdoy)\n",
    "    print('.', end='')\n",
    "    title = 'Winter Wheat LAI of China\\n(%s)'%(datetime.date(tyear-1,12,31)+datetime.timedelta(tdoy)).strftime('%Y-%m-%d')\n",
    "    figName = 'winter_wheat_LAI_%d%03d.jpg'%(tyear,tdoy)\n",
    "    DP=DAPlot(raster_files, output_path, title, figName, bar_label,scale=0.01,min=0,max=8,imshow=False)\n",
    "    DP.plot()"
   ]
  },
  {
   "cell_type": "markdown",
   "id": "parental-contribution",
   "metadata": {},
   "source": [
    "### AGB"
   ]
  },
  {
   "cell_type": "code",
   "execution_count": null,
   "id": "friendly-speaker",
   "metadata": {},
   "outputs": [
    {
     "name": "stdout",
     "output_type": "stream",
     "text": [
      "2015\n",
      "........................................................."
     ]
    }
   ],
   "source": [
    "for year in range(2007,2016):  \n",
    "  print(year)\n",
    "  output_path = 'D:/hh/@进行中的工作/ESSD_Wheat_Multi-vars/结果/V2-3/png/%d'%year\n",
    "  Path(output_path).mkdir(parents=True, exist_ok=True)\n",
    "  #AGB&Yield\n",
    "#   bar_label = '$ \\mathrm{m}^{-2}$'+'$\\cdot$'+'$ \\mathrm{m}^{-2}$'\n",
    "  bar_label = '$ \\mathrm{kg}$'+'$\\cdot$'+'$ \\mathrm{ha}^{-1}$'  \n",
    "  for doy in range(-90,180,1):\n",
    "    if doy==0:\n",
    "        continue\n",
    "    raster_files = 'D:/hh/@进行中的工作/ESSD_Wheat_Multi-vars/结果/V2-3/tif/%d/TAGP_Daily_%d%03d.tif'%(year,year,doy)\n",
    "    tdoy=doy\n",
    "    tyear=year\n",
    "    if doy<0:\n",
    "        tyear=year-1\n",
    "        tdoy=(datetime.date(year,1,1)-datetime.date(year-1,1,1)).days+doy+1\n",
    "#     print(tyear,'-',tdoy)\n",
    "    print('.', end='')\n",
    "    title = 'Winter Wheat TAGP of China\\n(%s)'%(datetime.date(tyear-1,12,31)+datetime.timedelta(tdoy)).strftime('%Y-%m-%d')\n",
    "    figName = 'winter_wheat_TAGP_%d%03d.jpg'%(tyear,tdoy)\n",
    "    DP=DAPlot(raster_files, output_path, title, figName, bar_label,scale=1,min=0,max=15000,imshow=False)\n",
    "    DP.plot()"
   ]
  },
  {
   "cell_type": "markdown",
   "id": "passive-annex",
   "metadata": {},
   "source": [
    "### TWSO"
   ]
  },
  {
   "cell_type": "code",
   "execution_count": null,
   "id": "neutral-recipe",
   "metadata": {},
   "outputs": [
    {
     "name": "stdout",
     "output_type": "stream",
     "text": [
      "2015\n",
      "........................................................."
     ]
    }
   ],
   "source": [
    "for year in range(2007,2016):  \n",
    "  print(year)\n",
    "  output_path = 'D:/hh/@进行中的工作/ESSD_Wheat_Multi-vars/结果/V2-3/png/%d'%year\n",
    "  Path(output_path).mkdir(parents=True, exist_ok=True)\n",
    "  #AGB&Yield\n",
    "#   bar_label = '$ \\mathrm{m}^{-2}$'+'$\\cdot$'+'$ \\mathrm{m}^{-2}$'\n",
    "  bar_label = '$ \\mathrm{kg}$'+'$\\cdot$'+'$ \\mathrm{ha}^{-1}$'  \n",
    "  for doy in range(-90,180,1):\n",
    "    if doy==0:\n",
    "        continue\n",
    "    raster_files = 'D:/hh/@进行中的工作/ESSD_Wheat_Multi-vars/结果/V2-3/tif/%d/TWSO_Daily_%d%03d.tif'%(year,year,doy)\n",
    "#     raster_files = 'D:\\a进行中工作\\ESSD_AGB_2021\\结果\\%d\\tif/TAGP_%d.tif'%(year,doy)\n",
    "    tdoy=doy\n",
    "    tyear=year\n",
    "    if doy<0:\n",
    "        tyear=year-1\n",
    "        tdoy=(datetime.date(year,1,1)-datetime.date(year-1,1,1)).days+doy+1\n",
    "#     print(tyear,'-',tdoy)\n",
    "    print('.', end='')\n",
    "    title = 'Winter Wheat TWSO of China\\n(%s)'%(datetime.date(tyear-1,12,31)+datetime.timedelta(tdoy)).strftime('%Y-%m-%d')\n",
    "    figName = 'winter_wheat_TWSO_%d%03d.jpg'%(tyear,tdoy)\n",
    "    DP=DAPlot(raster_files, output_path, title, figName, bar_label,scale=1,min=0,max=7000,imshow=False)\n",
    "    DP.plot()"
   ]
  },
  {
   "cell_type": "markdown",
   "id": "extra-sampling",
   "metadata": {},
   "source": [
    "## 生成gif动画"
   ]
  },
  {
   "cell_type": "code",
   "execution_count": 67,
   "id": "altered-representative",
   "metadata": {},
   "outputs": [],
   "source": [
    "items=['LAI','TWSO','TAGP']\n",
    "for i in range(1):\n",
    "    img_paths=glob.glob('D:/hh/@进行中的工作/ESSD_Wheat_Multi-vars/结果/V2-3/png/2015/winter_wheat_%s_*.jpg'%items[i])\n",
    "    img_paths.sort()\n",
    "    gif_images = []\n",
    "    for path in img_paths:\n",
    "        if 'max' in path:\n",
    "            continue\n",
    "        gif_images.append(imageio.imread(path))\n",
    "        output_path='D:/hh/@进行中的工作/ESSD_Wheat_Multi-vars/结果/V2-3/gif/2015'\n",
    "        Path(output_path).mkdir(parents=True, exist_ok=True)\n",
    "    gif=output_path+'/winter_wheat_%s_2015.gif'%items[i]\n",
    "    imageio.mimsave(gif,gif_images,fps=10)\n",
    "    "
   ]
  },
  {
   "cell_type": "code",
   "execution_count": 75,
   "id": "amazing-denial",
   "metadata": {
    "tags": []
   },
   "outputs": [],
   "source": [
    "items=['LAI','TWSO','TAGP']\n",
    "for year in range(2007,2016):\n",
    "    for i in range(3):\n",
    "        img_paths=glob.glob('D:/hh/@进行中的工作/ESSD_Wheat_Multi-vars/结果/V2-3/png/%d/winter_wheat_%s_*.jpg'%(year,items[i]))\n",
    "        img_paths.sort()\n",
    "        gif_images = []\n",
    "        for path in img_paths:\n",
    "            if 'max' in path:\n",
    "                continue\n",
    "            gif_images.append(imageio.imread(path))\n",
    "            output_path='D:/hh/@进行中的工作/ESSD_Wheat_Multi-vars/结果/V2-3/gif/%d'%year\n",
    "            Path(output_path).mkdir(parents=True, exist_ok=True)\n",
    "        imageio.mimsave(output_path+'/winter_wheat_%s_2015.gif'%items[i],gif_images,fps=10)"
   ]
  }
 ],
 "metadata": {
  "kernelspec": {
   "display_name": "Python 3",
   "language": "python",
   "name": "python3"
  },
  "language_info": {
   "codemirror_mode": {
    "name": "ipython",
    "version": 3
   },
   "file_extension": ".py",
   "mimetype": "text/x-python",
   "name": "python",
   "nbconvert_exporter": "python",
   "pygments_lexer": "ipython3",
   "version": "3.8.6"
  }
 },
 "nbformat": 4,
 "nbformat_minor": 5
}
